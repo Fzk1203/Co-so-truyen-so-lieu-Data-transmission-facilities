{
 "cells": [
  {
   "cell_type": "code",
   "execution_count": 1,
   "id": "d45a48d2-5154-4940-ba97-aa4e19e000ae",
   "metadata": {},
   "outputs": [],
   "source": [
    "# Import thư viện\n",
    "import numpy as np\n",
    "import matplotlib.pyplot as plt\n",
    "\n",
    "# Thiết lập các tham số\n",
    "np.random.seed(42)\n",
    "\n",
    "λ = 2.0        # Tốc độ khách đến (arrival rate)\n",
    "μ = 3.0        # Tốc độ phục vụ (service rate)\n",
    "K = 5          # Sức chứa tối đa\n",
    "T_max = 10000  # Tổng thời gian mô phỏng\n",
    "\n",
    "# Biến trạng thái\n",
    "num_in_system = 0      # Số khách hiện tại trong hệ thống\n",
    "arrival_times = []     # Thời điểm khách đến\n",
    "departure_times = []   # Thời điểm khách phục vụ xong\n",
    "blocked_customers = 0  # Số lượng khách bị từ chối\n",
    "\n",
    "# Bắt đầu mô phỏng\n",
    "t = 0.0   # Thời gian hiện tại\n",
    "next_arrival = np.random.exponential(1/λ)\n",
    "next_departure = np.inf\n",
    "\n",
    "while t < T_max:\n",
    "    if next_arrival < next_departure:\n",
    "        t = next_arrival\n",
    "        if num_in_system < K:\n",
    "            num_in_system += 1\n",
    "            arrival_times.append(t)\n",
    "            if num_in_system == 1:\n",
    "                # Bắt đầu phục vụ ngay nếu không có khách nào\n",
    "                next_departure = t + np.random.exponential(1/μ)\n",
    "        else:\n",
    "            blocked_customers += 1\n",
    "        next_arrival = t + np.random.exponential(1/λ)\n",
    "    else:\n",
    "        t = next_departure\n",
    "        num_in_system -= 1\n",
    "        departure_times.append(t)\n",
    "        if num_in_system > 0:\n",
    "            next_departure = t + np.random.exponential(1/μ)\n",
    "        else:\n",
    "            next_departure = np.inf\n",
    "\n",
    "# Tính toán kết quả mô phỏng\n",
    "total_customers = len(arrival_times) + blocked_customers\n",
    "effective_arrivals = len(arrival_times)\n",
    "blocking_probability_sim = blocked_customers / total_customers\n",
    "avg_num_in_system_sim = np.mean([\n",
    "    (departure_times[i] - arrival_times[i]) for i in range(len(departure_times))\n",
    "]) * (effective_arrivals / T_max)\n",
    "avg_delay_sim = np.mean([\n",
    "    (departure_times[i] - arrival_times[i]) for i in range(len(departure_times))\n",
    "])\n",
    "\n"
   ]
  },
  {
   "cell_type": "code",
   "execution_count": 2,
   "id": "4d3be241-0fe2-4ec1-9ff1-6f03116b3596",
   "metadata": {},
   "outputs": [
    {
     "name": "stdout",
     "output_type": "stream",
     "text": [
      "===== KẾT QUẢ MÔ PHỎNG =====\n",
      "Tổng khách đến: 19891\n",
      "Khách phục vụ được: 18927\n",
      "Khách bị từ chối: 964\n",
      "Xác suất blocking (mô phỏng): 0.048464\n",
      "Số khách trung bình trong hệ thống (mô phỏng): 1.403405\n",
      "Thời gian chờ trung bình (mô phỏng): 0.741483\n"
     ]
    }
   ],
   "source": [
    "print(\"===== KẾT QUẢ MÔ PHỎNG =====\")\n",
    "print(f\"Tổng khách đến: {total_customers}\")\n",
    "print(f\"Khách phục vụ được: {effective_arrivals}\")\n",
    "print(f\"Khách bị từ chối: {blocked_customers}\")\n",
    "print(f\"Xác suất blocking (mô phỏng): {blocking_probability_sim:f}\")\n",
    "print(f\"Số khách trung bình trong hệ thống (mô phỏng): {avg_num_in_system_sim:f}\")\n",
    "print(f\"Thời gian chờ trung bình (mô phỏng): {avg_delay_sim:f}\")\n"
   ]
  },
  {
   "cell_type": "code",
   "execution_count": 3,
   "id": "54c6e4b5-888b-48b0-9cdf-6407a5ba0962",
   "metadata": {},
   "outputs": [],
   "source": [
    "# Công thức lý thuyết\n",
    "ρ = λ / μ\n",
    "\n",
    "if ρ != 1:\n",
    "    denominator = (1 - ρ**(K+1)) / (1 - ρ)\n",
    "else:\n",
    "    denominator = K + 1\n",
    "\n",
    "P_block = (ρ**K) * (1 - ρ) / (1 - ρ**(K+1)) if ρ != 1 else 1 / (K+1)\n",
    "\n",
    "# Xác suất P_n\n",
    "P_n = [(1 - ρ) * ρ**n / (1 - ρ**(K+1)) for n in range(K+1)]\n",
    "\n",
    "# Số khách trung bình trong hệ thống\n",
    "L = sum(n * P_n[n] for n in range(K+1))\n",
    "\n",
    "# Tốc độ khách thực tế vào hệ thống\n",
    "λ_eff = λ * (1 - P_block)\n",
    "\n",
    "# Thời gian chờ trung bình\n",
    "W = L / λ_eff\n",
    "\n"
   ]
  },
  {
   "cell_type": "code",
   "execution_count": 4,
   "id": "1dd61d0f-c804-46b3-baa3-068b862f8c28",
   "metadata": {},
   "outputs": [
    {
     "name": "stdout",
     "output_type": "stream",
     "text": [
      "\n",
      "===== KẾT QUẢ LÝ THUYẾT =====\n",
      "Xác suất blocking (lý thuyết): 0.048120\n",
      "Số khách trung bình trong hệ thống (lý thuyết): 1.422556\n",
      "Thời gian chờ trung bình (lý thuyết): 0.747235\n"
     ]
    }
   ],
   "source": [
    "print(\"\\n===== KẾT QUẢ LÝ THUYẾT =====\")\n",
    "print(f\"Xác suất blocking (lý thuyết): {P_block:f}\")\n",
    "print(f\"Số khách trung bình trong hệ thống (lý thuyết): {L:f}\")\n",
    "print(f\"Thời gian chờ trung bình (lý thuyết): {W:f}\")\n"
   ]
  },
  {
   "cell_type": "code",
   "execution_count": null,
   "id": "4140e4ce-748a-4c2d-9c00-1880dc36c992",
   "metadata": {},
   "outputs": [],
   "source": []
  }
 ],
 "metadata": {
  "kernelspec": {
   "display_name": "Python 3 (ipykernel)",
   "language": "python",
   "name": "python3"
  },
  "language_info": {
   "codemirror_mode": {
    "name": "ipython",
    "version": 3
   },
   "file_extension": ".py",
   "mimetype": "text/x-python",
   "name": "python",
   "nbconvert_exporter": "python",
   "pygments_lexer": "ipython3",
   "version": "3.13.3"
  }
 },
 "nbformat": 4,
 "nbformat_minor": 5
}
