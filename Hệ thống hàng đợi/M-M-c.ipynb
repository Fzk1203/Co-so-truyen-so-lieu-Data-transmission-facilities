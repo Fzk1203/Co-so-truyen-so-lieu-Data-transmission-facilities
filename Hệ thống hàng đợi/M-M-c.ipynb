{
 "cells": [
  {
   "cell_type": "code",
   "execution_count": 9,
   "id": "044ae544-07c7-4b06-8321-86b53ca0b8a8",
   "metadata": {},
   "outputs": [
    {
     "data": {
      "text/plain": [
       "'\\nM/M/c là mô hình hàng đợi:\\n- Arrival: theo tiến trình Poisson, tỷ lệ đến là lambda \\n- Service: thời gian phục vụ có phân phối một chiều (exponential) với tỷ lệ mu\\n- c là số máy phục vụ song song.\\n\\nCác đại lượng quan trọng:\\n- P0: Xác suất hệ thống rỗng\\n- L: Số khách trung bình trong hệ thống\\n- Lq: Số khách trung bình trong hàng đợi\\n- W: Thời gian trung bình trong hệ thống\\n- Wq: Thời gian trung bình chờ phục vụ\\n\\nThuật ngữ:\\n-  \\rho = \\x0crac{lambda}{c μ}  là độ trễ\\n\\n'"
      ]
     },
     "execution_count": 9,
     "metadata": {},
     "output_type": "execute_result"
    }
   ],
   "source": [
    "### Hàng đợi M/M/c: Lý thuyết, Mô phông, và Bài giải\n",
    "\n",
    "# 1. Lý thuyết M/M/c\n",
    "\"\"\"\n",
    "M/M/c là mô hình hàng đợi:\n",
    "- Arrival: theo tiến trình Poisson, tỷ lệ đến là lambda \n",
    "- Service: thời gian phục vụ có phân phối một chiều (exponential) với tỷ lệ mu\n",
    "- c là số máy phục vụ song song.\n",
    "\n",
    "Các đại lượng quan trọng:\n",
    "- P0: Xác suất hệ thống rỗng\n",
    "- L: Số khách trung bình trong hệ thống\n",
    "- Lq: Số khách trung bình trong hàng đợi\n",
    "- W: Thời gian trung bình trong hệ thống\n",
    "- Wq: Thời gian trung bình chờ phục vụ\n",
    "\n",
    "Thuật ngữ:\n",
    "-  \\rho = \\frac{lambda}{c \\u03bc}  là độ trễ\n",
    "\n",
    "\"\"\"\n",
    "\n"
   ]
  },
  {
   "cell_type": "code",
   "execution_count": 11,
   "id": "5160176b-5430-4b5d-8109-e8bb166bd55e",
   "metadata": {
    "scrolled": true
   },
   "outputs": [],
   "source": [
    "import numpy as np\n",
    "import simpy\n",
    "import matplotlib.pyplot as plt\n",
    "\n",
    "# 2. Các công thức lý thuyết\n",
    "from math import factorial\n",
    "\n",
    "def calc_P0(lam, mu, c):\n",
    "    rho = lam / (c * mu)\n",
    "    sum_terms = sum([(lam/mu)**n / factorial(n) for n in range(c)])\n",
    "    last_term = (lam/mu)**c / (factorial(c) * (1 - rho))\n",
    "    P0 = 1 / (sum_terms + last_term)\n",
    "    return P0\n",
    "\n",
    "def calc_Lq(lam, mu, c):\n",
    "    rho = lam / (c * mu)\n",
    "    P0 = calc_P0(lam, mu, c)\n",
    "    Lq = (P0 * (lam/mu)**c * rho) / (factorial(c) * (1 - rho)**2)\n",
    "    return Lq\n",
    "\n",
    "def calc_L(lam, mu, c):\n",
    "    Lq = calc_Lq(lam, mu, c)\n",
    "    L = Lq + lam/mu\n",
    "    return L\n",
    "\n",
    "def calc_W(lam, mu, c):\n",
    "    L = calc_L(lam, mu, c)\n",
    "    W = L / lam\n",
    "    return W\n",
    "\n",
    "def calc_Wq(lam, mu, c):\n",
    "    Lq = calc_Lq(lam, mu, c)\n",
    "    Wq = Lq / lam\n",
    "    return Wq\n",
    "\n"
   ]
  },
  {
   "cell_type": "code",
   "execution_count": 12,
   "id": "9b46358f-ee23-48f3-9c05-aa1b37bb383b",
   "metadata": {},
   "outputs": [],
   "source": [
    "# 3. Mô phông M/M/c\n",
    "\n",
    "def mmc_simulation(lam, mu, c, sim_time=1000):\n",
    "    env = simpy.Environment()\n",
    "    server = simpy.Resource(env, capacity=c)\n",
    "    \n",
    "    wait_times = []\n",
    "\n",
    "    def customer(name, env, server):\n",
    "        arrival_time = env.now\n",
    "        with server.request() as request:\n",
    "            yield request\n",
    "            wait = env.now - arrival_time\n",
    "            wait_times.append(wait)\n",
    "            service_time = np.random.exponential(1/mu)\n",
    "            yield env.timeout(service_time)\n",
    "\n",
    "    def source(env, lam, server):\n",
    "        i = 0\n",
    "        while True:\n",
    "            yield env.timeout(np.random.exponential(1/lam))\n",
    "            env.process(customer(f'Customer {i}', env, server))\n",
    "            i += 1\n",
    "\n",
    "    env.process(source(env, lam, server))\n",
    "    env.run(until=sim_time)\n",
    "    \n",
    "    return wait_times\n",
    "\n"
   ]
  },
  {
   "cell_type": "code",
   "execution_count": 13,
   "id": "5c7d25e2-5741-4a6b-9f1b-e4bd66caef11",
   "metadata": {},
   "outputs": [],
   "source": [
    "# 4. Ví dụ: Thực hiện tính toán và mô phông\n",
    "\n",
    "# Giá trị mặc định\n",
    "lam = 5  # arrival rate\n",
    "mu = 3   # service rate per server\n",
    "c = 3    # number of servers\n",
    "\n",
    "# Tính toán lý thuyết\n",
    "P0 = calc_P0(lam, mu, c)\n",
    "Lq = calc_Lq(lam, mu, c)\n",
    "L = calc_L(lam, mu, c)\n",
    "Wq = calc_Wq(lam, mu, c)\n",
    "W = calc_W(lam, mu, c)\n",
    "\n"
   ]
  },
  {
   "cell_type": "code",
   "execution_count": 14,
   "id": "5a04d3da-53ca-42b0-b33f-635020b970a8",
   "metadata": {},
   "outputs": [
    {
     "name": "stdout",
     "output_type": "stream",
     "text": [
      "P0 (hệ thống rỗng) = 0.1727\n",
      "Lq (số khách trong hàng đợi) = 0.3747\n",
      "L (tổng số khách) = 2.0414\n",
      "Wq (thời gian chờ trung bình) = 0.0749\n",
      "W (thời gian trung bình hệ thống) = 0.4083\n"
     ]
    }
   ],
   "source": [
    "print(f\"P0 (hệ thống rỗng) = {P0:.4f}\")\n",
    "print(f\"Lq (số khách trong hàng đợi) = {Lq:.4f}\")\n",
    "print(f\"L (tổng số khách) = {L:.4f}\")\n",
    "print(f\"Wq (thời gian chờ trung bình) = {Wq:.4f}\")\n",
    "print(f\"W (thời gian trung bình hệ thống) = {W:.4f}\")\n",
    "\n"
   ]
  },
  {
   "cell_type": "code",
   "execution_count": 15,
   "id": "58573a3a-4677-4a4c-9ff5-68af70105d9c",
   "metadata": {},
   "outputs": [
    {
     "data": {
      "image/png": "[encoded data removed]",
      "text/plain": [
       "<Figure size 640x480 with 1 Axes>"
      ]
     },
     "metadata": {},
     "output_type": "display_data"
    }
   ],
   "source": [
    "# Mô phông\n",
    "wait_times = mmc_simulation(lam, mu, c, sim_time=10000)\n",
    "\n",
    "# Vẽ biểu đồ\n",
    "plt.hist(wait_times, bins=50, density=True, alpha=0.7)\n",
    "plt.title(\"Phân phối thời gian chờ trong M/M/c\")\n",
    "plt.xlabel(\"Thời gian chờ\")\n",
    "plt.ylabel(\"Mật độ\")\n",
    "plt.grid()\n",
    "plt.show()\n",
    "\n"
   ]
  },
  {
   "cell_type": "code",
   "execution_count": 19,
   "id": "60b360ba-9568-4a02-acc6-48b834b0f8c5",
   "metadata": {},
   "outputs": [
    {
     "data": {
      "text/plain": [
       "'\\nBài tập:\\nMột trung tâm dịch vụ có 4 nhân viên (c=4), khách đến theo tiến trình Poisson với đỉnh tần suất 10 khách/giờ (lambda =10).\\nThời gian phục vụ trung bình là 15 phút (tức là mu =4  khách/giờ).\\n\\nTính:\\n1. Xác suất hệ thống rỗng (P0)\\n2. Số khách trung bình trong hệ thống (L)\\n3. Thời gian chờ trung bình (Wq)\\n\\nGiải:\\n- lambda =10 , mu =4, c=4\\n-  \\rho = \\x0crac{lambda}{c mu} = \\x0crac{10}{16} = 0.625 \\n\\nTính  P_0 ,  L_q ,  L ,  W_q .\\n\\n'"
      ]
     },
     "execution_count": 19,
     "metadata": {},
     "output_type": "execute_result"
    }
   ],
   "source": [
    "# 5. Bài tập tự luận\n",
    "\"\"\"\n",
    "Bài tập:\n",
    "Một trung tâm dịch vụ có 4 nhân viên (c=4), khách đến theo tiến trình Poisson với đỉnh tần suất 10 khách/giờ (lambda =10).\n",
    "Thời gian phục vụ trung bình là 15 phút (tức là mu =4  khách/giờ).\n",
    "\n",
    "Tính:\n",
    "1. Xác suất hệ thống rỗng (P0)\n",
    "2. Số khách trung bình trong hệ thống (L)\n",
    "3. Thời gian chờ trung bình (Wq)\n",
    "\n",
    "Giải:\n",
    "- lambda =10 , mu =4, c=4\n",
    "-  \\rho = \\frac{lambda}{c mu} = \\frac{10}{16} = 0.625 \n",
    "\n",
    "Tính  P_0 ,  L_q ,  L ,  W_q .\n",
    "\n",
    "\"\"\""
   ]
  },
  {
   "cell_type": "code",
   "execution_count": null,
   "id": "e3464044-563c-4106-88bf-5192a2827963",
   "metadata": {},
   "outputs": [],
   "source": []
  }
 ],
 "metadata": {
  "kernelspec": {
   "display_name": "Python 3 (ipykernel)",
   "language": "python",
   "name": "python3"
  },
  "language_info": {
   "codemirror_mode": {
    "name": "ipython",
    "version": 3
   },
   "file_extension": ".py",
   "mimetype": "text/x-python",
   "name": "python",
   "nbconvert_exporter": "python",
   "pygments_lexer": "ipython3",
   "version": "3.13.3"
  }
 },
 "nbformat": 4,
 "nbformat_minor": 5
}
