{
 "cells": [
  {
   "cell_type": "markdown",
   "metadata": {},
   "source": [
    "# 📘 Mô phỏng hệ thống hàng đợi M/M/c/c (Erlang-B)\n",
    "Trong notebook này, chúng ta sẽ:\n",
    "- Tính toán xác suất từ chối theo lý thuyết Erlang-B\n",
    "- Mô phỏng hệ thống M/M/c/c bằng thư viện `simpy`\n",
    "- So sánh kết quả mô phỏng với lý thuyết\n"
   ]
  },
  {
   "cell_type": "code",
   "execution_count": 18,
   "metadata": {},
   "outputs": [
    {
     "name": "stdout",
     "output_type": "stream",
     "text": [
      "Xác suất từ chối (lý thuyết): 0.01825983\n"
     ]
    }
   ],
   "source": [
    "# 📐 Hàm tính Erlang-B\n",
    "import math\n",
    "\n",
    "def erlang_b(c, A):\n",
    "    B = (A ** c) / math.factorial(c)\n",
    "    denom = sum((A ** k) / math.factorial(k) for k in range(c + 1))\n",
    "    return B/(1+denom)\n",
    "\n",
    "# Ví dụ: c = 3 servers, lambda = 5, mu = 2 => A = 2.5\n",
    "c = 10\n",
    "lambd = 15\n",
    "mu = 3\n",
    "A = lambd / mu\n",
    "blocking_theory = erlang_b(c, A)\n",
    "print(f\"Xác suất từ chối (lý thuyết): {blocking_theory:.8f}\")"
   ]
  },
  {
   "cell_type": "code",
   "execution_count": 19,
   "metadata": {},
   "outputs": [
    {
     "name": "stdout",
     "output_type": "stream",
     "text": [
      "Xác suất từ chối (mô phỏng): 0.01802454\n"
     ]
    }
   ],
   "source": [
    "# 🧪 Mô phỏng hệ thống M/M/c/c bằng simpy\n",
    "import simpy\n",
    "import random\n",
    "\n",
    "RANDOM_SEED = 42\n",
    "SIM_TIME = 10000\n",
    "\n",
    "def customer(env, servers, mu, stats):\n",
    "    with servers.request() as req:\n",
    "        result = yield req | env.timeout(0)\n",
    "        if req in result:\n",
    "            service_time = random.expovariate(mu)\n",
    "            yield env.timeout(service_time)\n",
    "            stats['served'] += 1\n",
    "        else:\n",
    "            stats['rejected'] += 1\n",
    "\n",
    "def generator(env, lambd, mu, c, stats):\n",
    "    servers = simpy.Resource(env, capacity=c)\n",
    "    while True:\n",
    "        yield env.timeout(random.expovariate(lambd))\n",
    "        env.process(customer(env, servers, mu, stats))\n",
    "\n",
    "random.seed(RANDOM_SEED)\n",
    "env = simpy.Environment()\n",
    "stats = {'served': 0, 'rejected': 0}\n",
    "env.process(generator(env, lambd, mu, c, stats))\n",
    "env.run(until=SIM_TIME)\n",
    "\n",
    "total = stats['served'] + stats['rejected']\n",
    "blocking_sim = stats['rejected'] / total\n",
    "print(f\"Xác suất từ chối (mô phỏng): {blocking_sim:.8f}\")"
   ]
  },
  {
   "cell_type": "code",
   "execution_count": 20,
   "metadata": {},
   "outputs": [
    {
     "name": "stdout",
     "output_type": "stream",
     "text": [
      "Từ chối (Lý thuyết Erlang-B): 0.01825983\n",
      "Từ chối (Mô phỏng simpy): 0.01802454\n"
     ]
    }
   ],
   "source": [
    "# 📊 So sánh lý thuyết và mô phỏng\n",
    "print(f\"Từ chối (Lý thuyết Erlang-B): {blocking_theory:.8f}\")\n",
    "print(f\"Từ chối (Mô phỏng simpy): {blocking_sim:.8f}\")"
   ]
  },
  {
   "cell_type": "code",
   "execution_count": null,
   "metadata": {},
   "outputs": [],
   "source": []
  }
 ],
 "metadata": {
  "kernelspec": {
   "display_name": "Python 3 (ipykernel)",
   "language": "python",
   "name": "python3"
  },
  "language_info": {
   "codemirror_mode": {
    "name": "ipython",
    "version": 3
   },
   "file_extension": ".py",
   "mimetype": "text/x-python",
   "name": "python",
   "nbconvert_exporter": "python",
   "pygments_lexer": "ipython3",
   "version": "3.13.3"
  }
 },
 "nbformat": 4,
 "nbformat_minor": 4
}
