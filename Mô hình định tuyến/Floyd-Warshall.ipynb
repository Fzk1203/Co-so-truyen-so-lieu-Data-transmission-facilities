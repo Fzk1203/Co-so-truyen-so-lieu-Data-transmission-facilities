{
 "cells": [
  {
   "cell_type": "code",
   "execution_count": 1,
   "id": "1fcddfe7-e060-4670-acb8-c46f6286d1c4",
   "metadata": {},
   "outputs": [],
   "source": [
    "import networkx as nx\n",
    "import matplotlib.pyplot as plt\n",
    "\n",
    "# Danh sách đỉnh\n",
    "nodes = ['A', 'B', 'C', 'D']\n",
    "n = len(nodes)\n",
    "index_map = {node: i for i, node in enumerate(nodes)}\n",
    "reverse_index = {i: node for node, i in index_map.items()}\n",
    "\n",
    "# Các cạnh và trọng số\n",
    "edges = [\n",
    "    ('A', 'B', 1), ('B', 'A', 1),\n",
    "    ('B', 'D', 2), ('D', 'B', 2),\n",
    "    ('C', 'D', 1), ('D', 'C', 1),\n",
    "    ('C', 'A', 5), ('A', 'C', 5),\n",
    "    ('D', 'A', 2)\n",
    "]\n",
    "\n",
    "# Khởi tạo ma trận khoảng cách và tiền bối\n",
    "INF = float('inf')\n",
    "dist = [[INF]*n for _ in range(n)]\n",
    "pred = [[None]*n for _ in range(n)]\n",
    "\n",
    "for i in range(n):\n",
    "    dist[i][i] = 0\n",
    "    pred[i][i] = nodes[i]\n",
    "\n",
    "# Gán trọng số ban đầu và hàm tiền bối\n",
    "for u, v, w in edges:\n",
    "    i, j = index_map[u], index_map[v]\n",
    "    dist[i][j] = w\n",
    "    pred[i][j] = u\n",
    "\n",
    "# Hàm in ma trận đẹp\n",
    "def print_matrix(matrix, title, convert=lambda x: f\"{x}\" if x != INF else \"INF\"):\n",
    "    print(f\"\\n{title}\")\n",
    "    header = \"\\t\" + \"\\t\".join(nodes)\n",
    "    print(header)\n",
    "    for i in range(n):\n",
    "        row = [convert(matrix[i][j]) if matrix[i][j] is not None else \"0\" for j in range(n)]\n",
    "        print(f\"{nodes[i]}\\t\" + \"\\t\".join(row))\n",
    "\n"
   ]
  },
  {
   "cell_type": "code",
   "execution_count": 2,
   "id": "b327c23c-0333-4116-a986-0a7a43cd11c6",
   "metadata": {},
   "outputs": [
    {
     "name": "stdout",
     "output_type": "stream",
     "text": [
      "\n",
      "➡️ Giai đoạn k = A (k = 0):\n",
      "\n",
      "Ma trận khoảng cách tại k = A\n",
      "\tA\tB\tC\tD\n",
      "A\t0\t1\t5\tINF\n",
      "B\t1\t0\t6\t2\n",
      "C\t5\t6\t0\t1\n",
      "D\t2\t2\t1\t0\n",
      "\n",
      "➡️ Giai đoạn k = B (k = 1):\n",
      "\n",
      "Ma trận khoảng cách tại k = B\n",
      "\tA\tB\tC\tD\n",
      "A\t0\t1\t5\t3\n",
      "B\t1\t0\t6\t2\n",
      "C\t5\t6\t0\t1\n",
      "D\t2\t2\t1\t0\n",
      "\n",
      "➡️ Giai đoạn k = C (k = 2):\n",
      "\n",
      "Ma trận khoảng cách tại k = C\n",
      "\tA\tB\tC\tD\n",
      "A\t0\t1\t5\t3\n",
      "B\t1\t0\t6\t2\n",
      "C\t5\t6\t0\t1\n",
      "D\t2\t2\t1\t0\n",
      "\n",
      "➡️ Giai đoạn k = D (k = 3):\n",
      "\n",
      "Ma trận khoảng cách tại k = D\n",
      "\tA\tB\tC\tD\n",
      "A\t0\t1\t4\t3\n",
      "B\t1\t0\t3\t2\n",
      "C\t3\t3\t0\t1\n",
      "D\t2\t2\t1\t0\n"
     ]
    }
   ],
   "source": [
    "# Thuật toán Floyd-Warshall\n",
    "for k in range(n):\n",
    "    print(f\"\\n➡️ Giai đoạn k = {nodes[k]} (k = {k}):\")\n",
    "    for i in range(n):\n",
    "        for j in range(n):\n",
    "            if dist[i][j] > dist[i][k] + dist[k][j]:\n",
    "                dist[i][j] = dist[i][k] + dist[k][j]\n",
    "                pred[i][j] = pred[k][j]  # cập nhật tiền bối\n",
    "\n",
    "    print_matrix(dist, f\"Ma trận khoảng cách tại k = {nodes[k]}\")\n",
    "    #print_matrix(pred, f\"Ma trận tiền bối tại k = {nodes[k]}\")\n",
    "\n",
    "for i in range(n):\n",
    "    for j in range(n):\n",
    "        if pred[i][j] == nodes[i]:\n",
    "            pred[i][j] = None  # hoặc \"0\" nếu bạn muốn in ra dạng chuỗi"
   ]
  },
  {
   "cell_type": "code",
   "execution_count": 3,
   "id": "6274fd10-32b8-43f2-9cab-f43581ec107c",
   "metadata": {},
   "outputs": [
    {
     "name": "stdout",
     "output_type": "stream",
     "text": [
      "\n",
      "✅ Kết quả cuối cùng:\n",
      "\n",
      "🔹 Ma trận khoảng cách ngắn nhất\n",
      "\tA\tB\tC\tD\n",
      "A\t0\t1\t4\t3\n",
      "B\t1\t0\t3\t2\n",
      "C\t3\t3\t0\t1\n",
      "D\t2\t2\t1\t0\n",
      "\n",
      "🔹 Ma trận tiền bối\n",
      "\tA\tB\tC\tD\n",
      "A\t0\t0\tD\tB\n",
      "B\t0\t0\tD\t0\n",
      "C\tD\tD\t0\t0\n",
      "D\t0\t0\t0\t0\n"
     ]
    }
   ],
   "source": [
    "# In kết quả cuối cùng\n",
    "print(\"\\n✅ Kết quả cuối cùng:\")\n",
    "print_matrix(dist, \"🔹 Ma trận khoảng cách ngắn nhất\")\n",
    "print_matrix(pred, \"🔹 Ma trận tiền bối\")\n"
   ]
  },
  {
   "cell_type": "code",
   "execution_count": null,
   "id": "9ffd7659-87ed-4c19-9e32-11d42ee23597",
   "metadata": {},
   "outputs": [],
   "source": []
  }
 ],
 "metadata": {
  "kernelspec": {
   "display_name": "Python 3 (ipykernel)",
   "language": "python",
   "name": "python3"
  },
  "language_info": {
   "codemirror_mode": {
    "name": "ipython",
    "version": 3
   },
   "file_extension": ".py",
   "mimetype": "text/x-python",
   "name": "python",
   "nbconvert_exporter": "python",
   "pygments_lexer": "ipython3",
   "version": "3.13.3"
  }
 },
 "nbformat": 4,
 "nbformat_minor": 5
}
